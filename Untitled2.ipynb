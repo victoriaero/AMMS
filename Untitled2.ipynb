{
  "nbformat": 4,
  "nbformat_minor": 0,
  "metadata": {
    "kernelspec": {
      "display_name": "Python 3",
      "language": "python",
      "name": "python3"
    },
    "language_info": {
      "codemirror_mode": {
        "name": "ipython",
        "version": 3
      },
      "file_extension": ".py",
      "mimetype": "text/x-python",
      "name": "python",
      "nbconvert_exporter": "python",
      "pygments_lexer": "ipython3",
      "version": "3.6.3"
    },
    "colab": {
      "name": "tp2-template.ipynb",
      "provenance": []
    }
  },
  "cells": [
    {
      "cell_type": "markdown",
      "metadata": {
        "id": "qjKIf0quMsx4"
      },
      "source": [
        "# 1. Título"
      ]
    },
    {
      "cell_type": "markdown",
      "metadata": {
        "id": "mNHpCJkSMsx5"
      },
      "source": [
        "# 2. Membros (nome e número de matrícula)"
      ]
    },
    {
      "cell_type": "markdown",
      "metadata": {
        "id": "UtkUm0znMsx6"
      },
      "source": [
        "# 3. Descrição dos dados (qual a URL? qual o domínio? como os dados foram processados?)"
      ]
    },
    {
      "cell_type": "markdown",
      "metadata": {
        "id": "gVMZ5sgXMsx7"
      },
      "source": [
        "# 4. Diagrama ER"
      ]
    },
    {
      "cell_type": "markdown",
      "metadata": {
        "id": "oUuSvBNHMsx8"
      },
      "source": [
        "# 5. Diagrama relacional"
      ]
    },
    {
      "cell_type": "markdown",
      "metadata": {
        "id": "VoN73lIlMsx8"
      },
      "source": [
        "# 6. Consultas"
      ]
    },
    {
      "cell_type": "markdown",
      "metadata": {
        "id": "2YpY1xzjMsx9"
      },
      "source": [
        "## 6.1 Duas consultas envolvendo seleção e projeção"
      ]
    },
    {
      "cell_type": "markdown",
      "metadata": {
        "id": "qf9BZkVHMsx-"
      },
      "source": [
        "### 6.1.1 Consulta 1"
      ]
    },
    {
      "cell_type": "markdown",
      "metadata": {
        "id": "jTvDIa8SMsx-"
      },
      "source": [
        "### 6.1.2 Consulta 2"
      ]
    },
    {
      "cell_type": "markdown",
      "metadata": {
        "id": "R4ypyDVEMsx_"
      },
      "source": [
        "## 6.2 Três consultas envolvendo junção de duas relações"
      ]
    },
    {
      "cell_type": "markdown",
      "metadata": {
        "id": "lzP-LVTIMsyA"
      },
      "source": [
        "### 6.2.1 Consulta 3"
      ]
    },
    {
      "cell_type": "markdown",
      "metadata": {
        "id": "TUjilr5WMsyA"
      },
      "source": [
        "### 6.2.2 Consulta 4"
      ]
    },
    {
      "cell_type": "markdown",
      "metadata": {
        "id": "WRVCBqmnMsyB"
      },
      "source": [
        "### 6.2.3 Consulta 5"
      ]
    },
    {
      "cell_type": "markdown",
      "metadata": {
        "id": "lgo4SeE6MsyC"
      },
      "source": [
        "## 6.3 Três consultas envolvendo junção de três ou mais relações"
      ]
    },
    {
      "cell_type": "markdown",
      "metadata": {
        "id": "dasXXVfgMsyD"
      },
      "source": [
        "### 6.3.1 Consulta 6"
      ]
    },
    {
      "cell_type": "markdown",
      "metadata": {
        "id": "HM2zFjTLMsyE"
      },
      "source": [
        "### 6.3.2 Consulta 7"
      ]
    },
    {
      "cell_type": "markdown",
      "metadata": {
        "id": "m_dimi3aMsyF"
      },
      "source": [
        "### 6.3.3 Consulta 8"
      ]
    },
    {
      "cell_type": "markdown",
      "metadata": {
        "id": "uNwuR_iUMsyG"
      },
      "source": [
        "## 6.4 Duas consultas envolvendo agregação sobre junção de duas ou mais relações"
      ]
    },
    {
      "cell_type": "markdown",
      "metadata": {
        "id": "xfXU7jddMsyH"
      },
      "source": [
        "### 6.4.1 Consulta 9"
      ]
    },
    {
      "cell_type": "markdown",
      "metadata": {
        "id": "BhjKBOsUMsyH"
      },
      "source": [
        "### 6.4.2 Consulta 10"
      ]
    },
    {
      "cell_type": "markdown",
      "metadata": {
        "id": "m6mFALx3MsyI"
      },
      "source": [
        "# 7. Autoavaliação dos membros"
      ]
    }
  ]
}
